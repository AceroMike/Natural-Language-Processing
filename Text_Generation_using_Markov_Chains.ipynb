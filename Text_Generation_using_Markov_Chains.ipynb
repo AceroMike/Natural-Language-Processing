{
  "nbformat": 4,
  "nbformat_minor": 0,
  "metadata": {
    "colab": {
      "name": "Text Generation using Markov Chains.ipynb",
      "provenance": [],
      "collapsed_sections": [],
      "machine_shape": "hm",
      "authorship_tag": "ABX9TyOagls1+xXjGFh95AKuBnfT",
      "include_colab_link": true
    },
    "kernelspec": {
      "name": "python3",
      "display_name": "Python 3"
    }
  },
  "cells": [
    {
      "cell_type": "markdown",
      "metadata": {
        "id": "view-in-github",
        "colab_type": "text"
      },
      "source": [
        "<a href=\"https://colab.research.google.com/github/AceroMike/Natural-Language-Processing/blob/main/Text_Generation_using_Markov_Chains.ipynb\" target=\"_parent\"><img src=\"https://colab.research.google.com/assets/colab-badge.svg\" alt=\"Open In Colab\"/></a>"
      ]
    },
    {
      "cell_type": "code",
      "metadata": {
        "id": "S-iVrluu2M4e"
      },
      "source": [
        "!pip install markovify"
      ],
      "execution_count": null,
      "outputs": []
    },
    {
      "cell_type": "code",
      "metadata": {
        "id": "9ECw_SUv1rQt"
      },
      "source": [
        "# Imports\r\n",
        "import numpy as np\r\n",
        "import pandas as pd\r\n",
        "import nltk\r\n",
        "from time import time\r\n",
        "import re\r\n",
        "import spacy\r\n",
        "import markovify\r\n",
        "from sqlalchemy import create_engine\r\n",
        "import warnings\r\n",
        "warnings.filterwarnings(\"ignore\")\r\n"
      ],
      "execution_count": 3,
      "outputs": []
    },
    {
      "cell_type": "markdown",
      "metadata": {
        "id": "_IoD8o0Q2dxZ"
      },
      "source": [
        "For this notebook we will be learning from twitter post data to generate text. The text generation will be generated using Markov Chains. First I load the data, code is hidden since data comes from a private server. "
      ]
    },
    {
      "cell_type": "code",
      "metadata": {
        "colab": {
          "base_uri": "https://localhost:8080/",
          "height": 855
        },
        "id": "FaKpjliz4J1h",
        "outputId": "0513989d-2569-4e82-992e-1ccfc6aa73a9"
      },
      "source": [
        "twitter_df.head(10)"
      ],
      "execution_count": 6,
      "outputs": [
        {
          "output_type": "execute_result",
          "data": {
            "text/html": [
              "<div>\n",
              "<style scoped>\n",
              "    .dataframe tbody tr th:only-of-type {\n",
              "        vertical-align: middle;\n",
              "    }\n",
              "\n",
              "    .dataframe tbody tr th {\n",
              "        vertical-align: top;\n",
              "    }\n",
              "\n",
              "    .dataframe thead th {\n",
              "        text-align: right;\n",
              "    }\n",
              "</style>\n",
              "<table border=\"1\" class=\"dataframe\">\n",
              "  <thead>\n",
              "    <tr style=\"text-align: right;\">\n",
              "      <th></th>\n",
              "      <th>index</th>\n",
              "      <th>tweet_id</th>\n",
              "      <th>airline_sentiment</th>\n",
              "      <th>airline_sentiment_confidence</th>\n",
              "      <th>negativereason</th>\n",
              "      <th>negativereason_confidence</th>\n",
              "      <th>airline</th>\n",
              "      <th>airline_sentiment_gold</th>\n",
              "      <th>name</th>\n",
              "      <th>negativereason_gold</th>\n",
              "      <th>retweet_count</th>\n",
              "      <th>text</th>\n",
              "      <th>tweet_coord</th>\n",
              "      <th>tweet_created</th>\n",
              "      <th>tweet_location</th>\n",
              "      <th>user_timezone</th>\n",
              "    </tr>\n",
              "  </thead>\n",
              "  <tbody>\n",
              "    <tr>\n",
              "      <th>0</th>\n",
              "      <td>0</td>\n",
              "      <td>570306133677760513</td>\n",
              "      <td>neutral</td>\n",
              "      <td>1.0000</td>\n",
              "      <td>None</td>\n",
              "      <td>NaN</td>\n",
              "      <td>Virgin America</td>\n",
              "      <td>None</td>\n",
              "      <td>cairdin</td>\n",
              "      <td>None</td>\n",
              "      <td>0</td>\n",
              "      <td>@VirginAmerica What @dhepburn said.</td>\n",
              "      <td>None</td>\n",
              "      <td>2015-02-24 11:35:52 -0800</td>\n",
              "      <td>None</td>\n",
              "      <td>Eastern Time (US &amp; Canada)</td>\n",
              "    </tr>\n",
              "    <tr>\n",
              "      <th>1</th>\n",
              "      <td>1</td>\n",
              "      <td>570301130888122368</td>\n",
              "      <td>positive</td>\n",
              "      <td>0.3486</td>\n",
              "      <td>None</td>\n",
              "      <td>0.0000</td>\n",
              "      <td>Virgin America</td>\n",
              "      <td>None</td>\n",
              "      <td>jnardino</td>\n",
              "      <td>None</td>\n",
              "      <td>0</td>\n",
              "      <td>@VirginAmerica plus you've added commercials t...</td>\n",
              "      <td>None</td>\n",
              "      <td>2015-02-24 11:15:59 -0800</td>\n",
              "      <td>None</td>\n",
              "      <td>Pacific Time (US &amp; Canada)</td>\n",
              "    </tr>\n",
              "    <tr>\n",
              "      <th>2</th>\n",
              "      <td>2</td>\n",
              "      <td>570301083672813571</td>\n",
              "      <td>neutral</td>\n",
              "      <td>0.6837</td>\n",
              "      <td>None</td>\n",
              "      <td>NaN</td>\n",
              "      <td>Virgin America</td>\n",
              "      <td>None</td>\n",
              "      <td>yvonnalynn</td>\n",
              "      <td>None</td>\n",
              "      <td>0</td>\n",
              "      <td>@VirginAmerica I didn't today... Must mean I n...</td>\n",
              "      <td>None</td>\n",
              "      <td>2015-02-24 11:15:48 -0800</td>\n",
              "      <td>Lets Play</td>\n",
              "      <td>Central Time (US &amp; Canada)</td>\n",
              "    </tr>\n",
              "    <tr>\n",
              "      <th>3</th>\n",
              "      <td>3</td>\n",
              "      <td>570301031407624196</td>\n",
              "      <td>negative</td>\n",
              "      <td>1.0000</td>\n",
              "      <td>Bad Flight</td>\n",
              "      <td>0.7033</td>\n",
              "      <td>Virgin America</td>\n",
              "      <td>None</td>\n",
              "      <td>jnardino</td>\n",
              "      <td>None</td>\n",
              "      <td>0</td>\n",
              "      <td>@VirginAmerica it's really aggressive to blast...</td>\n",
              "      <td>None</td>\n",
              "      <td>2015-02-24 11:15:36 -0800</td>\n",
              "      <td>None</td>\n",
              "      <td>Pacific Time (US &amp; Canada)</td>\n",
              "    </tr>\n",
              "    <tr>\n",
              "      <th>4</th>\n",
              "      <td>4</td>\n",
              "      <td>570300817074462722</td>\n",
              "      <td>negative</td>\n",
              "      <td>1.0000</td>\n",
              "      <td>Can't Tell</td>\n",
              "      <td>1.0000</td>\n",
              "      <td>Virgin America</td>\n",
              "      <td>None</td>\n",
              "      <td>jnardino</td>\n",
              "      <td>None</td>\n",
              "      <td>0</td>\n",
              "      <td>@VirginAmerica and it's a really big bad thing...</td>\n",
              "      <td>None</td>\n",
              "      <td>2015-02-24 11:14:45 -0800</td>\n",
              "      <td>None</td>\n",
              "      <td>Pacific Time (US &amp; Canada)</td>\n",
              "    </tr>\n",
              "    <tr>\n",
              "      <th>5</th>\n",
              "      <td>5</td>\n",
              "      <td>570300767074181121</td>\n",
              "      <td>negative</td>\n",
              "      <td>1.0000</td>\n",
              "      <td>Can't Tell</td>\n",
              "      <td>0.6842</td>\n",
              "      <td>Virgin America</td>\n",
              "      <td>None</td>\n",
              "      <td>jnardino</td>\n",
              "      <td>None</td>\n",
              "      <td>0</td>\n",
              "      <td>@VirginAmerica seriously would pay $30 a fligh...</td>\n",
              "      <td>None</td>\n",
              "      <td>2015-02-24 11:14:33 -0800</td>\n",
              "      <td>None</td>\n",
              "      <td>Pacific Time (US &amp; Canada)</td>\n",
              "    </tr>\n",
              "    <tr>\n",
              "      <th>6</th>\n",
              "      <td>6</td>\n",
              "      <td>570300616901320704</td>\n",
              "      <td>positive</td>\n",
              "      <td>0.6745</td>\n",
              "      <td>None</td>\n",
              "      <td>0.0000</td>\n",
              "      <td>Virgin America</td>\n",
              "      <td>None</td>\n",
              "      <td>cjmcginnis</td>\n",
              "      <td>None</td>\n",
              "      <td>0</td>\n",
              "      <td>@VirginAmerica yes, nearly every time I fly VX...</td>\n",
              "      <td>None</td>\n",
              "      <td>2015-02-24 11:13:57 -0800</td>\n",
              "      <td>San Francisco CA</td>\n",
              "      <td>Pacific Time (US &amp; Canada)</td>\n",
              "    </tr>\n",
              "    <tr>\n",
              "      <th>7</th>\n",
              "      <td>7</td>\n",
              "      <td>570300248553349120</td>\n",
              "      <td>neutral</td>\n",
              "      <td>0.6340</td>\n",
              "      <td>None</td>\n",
              "      <td>NaN</td>\n",
              "      <td>Virgin America</td>\n",
              "      <td>None</td>\n",
              "      <td>pilot</td>\n",
              "      <td>None</td>\n",
              "      <td>0</td>\n",
              "      <td>@VirginAmerica Really missed a prime opportuni...</td>\n",
              "      <td>None</td>\n",
              "      <td>2015-02-24 11:12:29 -0800</td>\n",
              "      <td>Los Angeles</td>\n",
              "      <td>Pacific Time (US &amp; Canada)</td>\n",
              "    </tr>\n",
              "    <tr>\n",
              "      <th>8</th>\n",
              "      <td>8</td>\n",
              "      <td>570299953286942721</td>\n",
              "      <td>positive</td>\n",
              "      <td>0.6559</td>\n",
              "      <td>None</td>\n",
              "      <td>NaN</td>\n",
              "      <td>Virgin America</td>\n",
              "      <td>None</td>\n",
              "      <td>dhepburn</td>\n",
              "      <td>None</td>\n",
              "      <td>0</td>\n",
              "      <td>@virginamerica Well, I didn't…but NOW I DO! :-D</td>\n",
              "      <td>None</td>\n",
              "      <td>2015-02-24 11:11:19 -0800</td>\n",
              "      <td>San Diego</td>\n",
              "      <td>Pacific Time (US &amp; Canada)</td>\n",
              "    </tr>\n",
              "    <tr>\n",
              "      <th>9</th>\n",
              "      <td>9</td>\n",
              "      <td>570295459631263746</td>\n",
              "      <td>positive</td>\n",
              "      <td>1.0000</td>\n",
              "      <td>None</td>\n",
              "      <td>NaN</td>\n",
              "      <td>Virgin America</td>\n",
              "      <td>None</td>\n",
              "      <td>YupitsTate</td>\n",
              "      <td>None</td>\n",
              "      <td>0</td>\n",
              "      <td>@VirginAmerica it was amazing, and arrived an ...</td>\n",
              "      <td>None</td>\n",
              "      <td>2015-02-24 10:53:27 -0800</td>\n",
              "      <td>Los Angeles</td>\n",
              "      <td>Eastern Time (US &amp; Canada)</td>\n",
              "    </tr>\n",
              "  </tbody>\n",
              "</table>\n",
              "</div>"
            ],
            "text/plain": [
              "   index            tweet_id  ...    tweet_location               user_timezone\n",
              "0      0  570306133677760513  ...              None  Eastern Time (US & Canada)\n",
              "1      1  570301130888122368  ...              None  Pacific Time (US & Canada)\n",
              "2      2  570301083672813571  ...         Lets Play  Central Time (US & Canada)\n",
              "3      3  570301031407624196  ...              None  Pacific Time (US & Canada)\n",
              "4      4  570300817074462722  ...              None  Pacific Time (US & Canada)\n",
              "5      5  570300767074181121  ...              None  Pacific Time (US & Canada)\n",
              "6      6  570300616901320704  ...  San Francisco CA  Pacific Time (US & Canada)\n",
              "7      7  570300248553349120  ...       Los Angeles  Pacific Time (US & Canada)\n",
              "8      8  570299953286942721  ...         San Diego  Pacific Time (US & Canada)\n",
              "9      9  570295459631263746  ...       Los Angeles  Eastern Time (US & Canada)\n",
              "\n",
              "[10 rows x 16 columns]"
            ]
          },
          "metadata": {
            "tags": []
          },
          "execution_count": 6
        }
      ]
    },
    {
      "cell_type": "markdown",
      "metadata": {
        "id": "9lmIgyvO4atM"
      },
      "source": [
        "We have a lot of variables here, However, we will only be using 2 of the features which is the text of the tweet and the airline sentiment. We will generate text by looking at tweets that are classified as negative and positive to see how the text generated differs. But first, we want to clean the data. Let's make a simpler data frame with the data that we will be using\r\n"
      ]
    },
    {
      "cell_type": "code",
      "metadata": {
        "colab": {
          "base_uri": "https://localhost:8080/"
        },
        "id": "oauL7dF25Cvf",
        "outputId": "abb27199-884f-4428-ae65-205622d62015"
      },
      "source": [
        "twitter_df.info()"
      ],
      "execution_count": 7,
      "outputs": [
        {
          "output_type": "stream",
          "text": [
            "<class 'pandas.core.frame.DataFrame'>\n",
            "RangeIndex: 14640 entries, 0 to 14639\n",
            "Data columns (total 16 columns):\n",
            " #   Column                        Non-Null Count  Dtype  \n",
            "---  ------                        --------------  -----  \n",
            " 0   index                         14640 non-null  int64  \n",
            " 1   tweet_id                      14640 non-null  int64  \n",
            " 2   airline_sentiment             14640 non-null  object \n",
            " 3   airline_sentiment_confidence  14640 non-null  float64\n",
            " 4   negativereason                9178 non-null   object \n",
            " 5   negativereason_confidence     10522 non-null  float64\n",
            " 6   airline                       14640 non-null  object \n",
            " 7   airline_sentiment_gold        40 non-null     object \n",
            " 8   name                          14640 non-null  object \n",
            " 9   negativereason_gold           32 non-null     object \n",
            " 10  retweet_count                 14640 non-null  int64  \n",
            " 11  text                          14640 non-null  object \n",
            " 12  tweet_coord                   1019 non-null   object \n",
            " 13  tweet_created                 14640 non-null  object \n",
            " 14  tweet_location                9907 non-null   object \n",
            " 15  user_timezone                 9820 non-null   object \n",
            "dtypes: float64(2), int64(3), object(11)\n",
            "memory usage: 1.8+ MB\n"
          ],
          "name": "stdout"
        }
      ]
    },
    {
      "cell_type": "code",
      "metadata": {
        "colab": {
          "base_uri": "https://localhost:8080/",
          "height": 204
        },
        "id": "R9GQbjPR4L8J",
        "outputId": "b5eba640-3baf-49f1-e662-061fdf5d6a27"
      },
      "source": [
        "twitter = twitter_df.drop(columns=['tweet_id', 'airline_sentiment_confidence', 'negativereason', 'negativereason_confidence', 'airline', 'airline_sentiment_gold',\r\n",
        "                                   'name', 'negativereason_gold', 'retweet_count', 'tweet_coord', 'tweet_created', 'tweet_location', 'user_timezone'])\r\n",
        "twitter.head()"
      ],
      "execution_count": 8,
      "outputs": [
        {
          "output_type": "execute_result",
          "data": {
            "text/html": [
              "<div>\n",
              "<style scoped>\n",
              "    .dataframe tbody tr th:only-of-type {\n",
              "        vertical-align: middle;\n",
              "    }\n",
              "\n",
              "    .dataframe tbody tr th {\n",
              "        vertical-align: top;\n",
              "    }\n",
              "\n",
              "    .dataframe thead th {\n",
              "        text-align: right;\n",
              "    }\n",
              "</style>\n",
              "<table border=\"1\" class=\"dataframe\">\n",
              "  <thead>\n",
              "    <tr style=\"text-align: right;\">\n",
              "      <th></th>\n",
              "      <th>index</th>\n",
              "      <th>airline_sentiment</th>\n",
              "      <th>text</th>\n",
              "    </tr>\n",
              "  </thead>\n",
              "  <tbody>\n",
              "    <tr>\n",
              "      <th>0</th>\n",
              "      <td>0</td>\n",
              "      <td>neutral</td>\n",
              "      <td>@VirginAmerica What @dhepburn said.</td>\n",
              "    </tr>\n",
              "    <tr>\n",
              "      <th>1</th>\n",
              "      <td>1</td>\n",
              "      <td>positive</td>\n",
              "      <td>@VirginAmerica plus you've added commercials t...</td>\n",
              "    </tr>\n",
              "    <tr>\n",
              "      <th>2</th>\n",
              "      <td>2</td>\n",
              "      <td>neutral</td>\n",
              "      <td>@VirginAmerica I didn't today... Must mean I n...</td>\n",
              "    </tr>\n",
              "    <tr>\n",
              "      <th>3</th>\n",
              "      <td>3</td>\n",
              "      <td>negative</td>\n",
              "      <td>@VirginAmerica it's really aggressive to blast...</td>\n",
              "    </tr>\n",
              "    <tr>\n",
              "      <th>4</th>\n",
              "      <td>4</td>\n",
              "      <td>negative</td>\n",
              "      <td>@VirginAmerica and it's a really big bad thing...</td>\n",
              "    </tr>\n",
              "  </tbody>\n",
              "</table>\n",
              "</div>"
            ],
            "text/plain": [
              "   index airline_sentiment                                               text\n",
              "0      0           neutral                @VirginAmerica What @dhepburn said.\n",
              "1      1          positive  @VirginAmerica plus you've added commercials t...\n",
              "2      2           neutral  @VirginAmerica I didn't today... Must mean I n...\n",
              "3      3          negative  @VirginAmerica it's really aggressive to blast...\n",
              "4      4          negative  @VirginAmerica and it's a really big bad thing..."
            ]
          },
          "metadata": {
            "tags": []
          },
          "execution_count": 8
        }
      ]
    },
    {
      "cell_type": "markdown",
      "metadata": {
        "id": "2sFjIThD5zFW"
      },
      "source": [
        "Now we have only the columns that we will be working with. Now I want to clean the dataframe. I will start by making sure there are no missing values. "
      ]
    },
    {
      "cell_type": "code",
      "metadata": {
        "colab": {
          "base_uri": "https://localhost:8080/"
        },
        "id": "AZEOyj4V5-qh",
        "outputId": "895aed94-a1ac-4826-c545-39156c373891"
      },
      "source": [
        "twitter.info()"
      ],
      "execution_count": 9,
      "outputs": [
        {
          "output_type": "stream",
          "text": [
            "<class 'pandas.core.frame.DataFrame'>\n",
            "RangeIndex: 14640 entries, 0 to 14639\n",
            "Data columns (total 3 columns):\n",
            " #   Column             Non-Null Count  Dtype \n",
            "---  ------             --------------  ----- \n",
            " 0   index              14640 non-null  int64 \n",
            " 1   airline_sentiment  14640 non-null  object\n",
            " 2   text               14640 non-null  object\n",
            "dtypes: int64(1), object(2)\n",
            "memory usage: 343.2+ KB\n"
          ],
          "name": "stdout"
        }
      ]
    },
    {
      "cell_type": "markdown",
      "metadata": {
        "id": "uC-7pYWT6Ek-"
      },
      "source": [
        "Now we want to clean the data. But first, let's separate the dataframe into the negative and positive tweets"
      ]
    },
    {
      "cell_type": "code",
      "metadata": {
        "colab": {
          "base_uri": "https://localhost:8080/"
        },
        "id": "WIf5nT6I6XyN",
        "outputId": "3ba0d8b3-e0b0-4f05-d28d-9dbc0845f9cd"
      },
      "source": [
        "twitter['airline_sentiment'].value_counts()"
      ],
      "execution_count": 10,
      "outputs": [
        {
          "output_type": "execute_result",
          "data": {
            "text/plain": [
              "negative    9178\n",
              "neutral     3099\n",
              "positive    2363\n",
              "Name: airline_sentiment, dtype: int64"
            ]
          },
          "metadata": {
            "tags": []
          },
          "execution_count": 10
        }
      ]
    },
    {
      "cell_type": "markdown",
      "metadata": {
        "id": "V0pT88TT6fyH"
      },
      "source": [
        "We see that the negative tweets far outnumber the positive tweets. This should not be surprising if like me, you believe that people are more likely to complain about a company than to comment on good service/work."
      ]
    },
    {
      "cell_type": "code",
      "metadata": {
        "id": "wniBANSb6A5v"
      },
      "source": [
        "negative_twitter = twitter[twitter['airline_sentiment'] == 'negative']\r\n",
        "positive_twitter = twitter[twitter['airline_sentiment'] == 'positive']"
      ],
      "execution_count": 11,
      "outputs": []
    },
    {
      "cell_type": "markdown",
      "metadata": {
        "id": "C7-SYvQe7MOu"
      },
      "source": [
        "Now we can proceed to cleaning the text."
      ]
    },
    {
      "cell_type": "code",
      "metadata": {
        "id": "twsO8-U87B_9"
      },
      "source": [
        "nlp = spacy.load('en_core_web_sm', disable=['parser', 'ner'])\r\n",
        "nlp.add_pipe(nlp.create_pipe('sentencizer'))\r\n",
        "nlp.max_length = 20000000\r\n",
        "docn = nlp(\" \".join(negative_twitter.text))"
      ],
      "execution_count": 13,
      "outputs": []
    },
    {
      "cell_type": "code",
      "metadata": {
        "colab": {
          "base_uri": "https://localhost:8080/"
        },
        "id": "uvd71tTv-c2m",
        "outputId": "66d0d0cf-c433-4db5-e8a5-1290a0340b41"
      },
      "source": [
        "docn[0:100]"
      ],
      "execution_count": 14,
      "outputs": [
        {
          "output_type": "execute_result",
          "data": {
            "text/plain": [
              "@VirginAmerica it's really aggressive to blast obnoxious \"entertainment\" in your guests' faces &amp; they have little recourse @VirginAmerica and it's a really big bad thing about it @VirginAmerica seriously would pay $30 a flight for seats that didn't have this playing.\n",
              "it's really the only bad thing about flying VA @VirginAmerica SFO-PDX schedule is still MIA. @VirginAmerica  I flew from NYC to SFO last week and couldn't fully sit in my seat due to two large gentleman on either side of me."
            ]
          },
          "metadata": {
            "tags": []
          },
          "execution_count": 14
        }
      ]
    },
    {
      "cell_type": "code",
      "metadata": {
        "id": "go7-jXb57YG_"
      },
      "source": [
        "nlp = spacy.load('en_core_web_sm', disable=['parser', 'ner'])\r\n",
        "nlp.add_pipe(nlp.create_pipe('sentencizer'))\r\n",
        "nlp.max_length = 20000000\r\n",
        "docp = nlp(\" \".join(positive_twitter.text))"
      ],
      "execution_count": 15,
      "outputs": []
    },
    {
      "cell_type": "code",
      "metadata": {
        "colab": {
          "base_uri": "https://localhost:8080/"
        },
        "id": "ypR3eIH1-gkg",
        "outputId": "45de8aa8-6314-4c82-9db4-6d927db3d6fb"
      },
      "source": [
        "docp[0:100]"
      ],
      "execution_count": 16,
      "outputs": [
        {
          "output_type": "execute_result",
          "data": {
            "text/plain": [
              "@VirginAmerica plus you've added commercials to the experience... tacky. @VirginAmerica yes, nearly every time I fly VX this “ear worm” won’t go away :) @virginamerica Well, I didn't…but NOW I DO! :-D @VirginAmerica it was amazing, and arrived an hour early. You're too good to me. @VirginAmerica I &lt;3 pretty graphics. so much better than minimal iconography. :D @VirginAmerica This is such a great deal! Already thinking about my 2nd trip to @Australia &amp; I haven't even gone"
            ]
          },
          "metadata": {
            "tags": []
          },
          "execution_count": 16
        }
      ]
    },
    {
      "cell_type": "markdown",
      "metadata": {
        "id": "wya6PsFG_lRu"
      },
      "source": [
        "Now we can use Markovify to generate sentences, but first we have to group each document into sentences. "
      ]
    },
    {
      "cell_type": "code",
      "metadata": {
        "colab": {
          "base_uri": "https://localhost:8080/",
          "height": 69
        },
        "id": "4eJ7TWsXAQjv",
        "outputId": "fb844f65-7193-463b-a1ff-0794dd841f39"
      },
      "source": [
        "# Group into sentences\r\n",
        "# Use the sentences that have more than one character\r\n",
        "neg_sents = \" \".join([sent.text for sent in docn.sents if len(sent.text) > 1])\r\n",
        "neg_sents[0:500]"
      ],
      "execution_count": 31,
      "outputs": [
        {
          "output_type": "execute_result",
          "data": {
            "application/vnd.google.colaboratory.intrinsic+json": {
              "type": "string"
            },
            "text/plain": [
              "'@VirginAmerica it\\'s really aggressive to blast obnoxious \"entertainment\" in your guests\\' faces &amp; they have little recourse @VirginAmerica and it\\'s a really big bad thing about it @VirginAmerica seriously would pay $30 a flight for seats that didn\\'t have this playing. \\nit\\'s really the only bad thing about flying VA @VirginAmerica SFO-PDX schedule is still MIA. @VirginAmerica  I flew from NYC to SFO last week and couldn\\'t fully sit in my seat due to two large gentleman on either side of me. HE'"
            ]
          },
          "metadata": {
            "tags": []
          },
          "execution_count": 31
        }
      ]
    },
    {
      "cell_type": "code",
      "metadata": {
        "colab": {
          "base_uri": "https://localhost:8080/",
          "height": 69
        },
        "id": "DuePO4bVAg8a",
        "outputId": "e9c50279-c4bd-4fc0-dbd0-4e6bf30e2dfc"
      },
      "source": [
        "pos_sents = \" \".join([sent.text for sent in docp.sents if len(sent.text) > 1])\r\n",
        "pos_sents[0:500]"
      ],
      "execution_count": 33,
      "outputs": [
        {
          "output_type": "execute_result",
          "data": {
            "application/vnd.google.colaboratory.intrinsic+json": {
              "type": "string"
            },
            "text/plain": [
              "\"@VirginAmerica plus you've added commercials to the experience... tacky. @VirginAmerica yes, nearly every time I fly VX this “ear worm” won’t go away :) @virginamerica Well, I didn't…but NOW I DO! :-D @VirginAmerica it was amazing, and arrived an hour early. You're too good to me. @VirginAmerica I &lt;3 pretty graphics. so much better than minimal iconography. :D @VirginAmerica This is such a great deal! Already thinking about my 2nd trip to @Australia &amp; I haven't even gone on my 1st trip ye\""
            ]
          },
          "metadata": {
            "tags": []
          },
          "execution_count": 33
        }
      ]
    },
    {
      "cell_type": "code",
      "metadata": {
        "id": "Ak8NqUeW_6VU"
      },
      "source": [
        "# Good tweets\r\n",
        "positive_generator = markovify.Text(pos_sents, state_size = 3)\r\n",
        "# Bad tweets\r\n",
        "negative_generator = markovify.Text(neg_sents, state_size = 3)"
      ],
      "execution_count": 20,
      "outputs": []
    },
    {
      "cell_type": "markdown",
      "metadata": {
        "id": "nmjM8rcAApYV"
      },
      "source": [
        "Great! Now let's take a look at some example sentences!"
      ]
    },
    {
      "cell_type": "code",
      "metadata": {
        "colab": {
          "base_uri": "https://localhost:8080/"
        },
        "id": "_bUSEypKAsIR",
        "outputId": "8bfdb06d-a741-421d-9238-4ee906638881"
      },
      "source": [
        "# Positive\r\n",
        "# Ten randomly generated sentences\r\n",
        "for i in range(10):\r\n",
        "    print(positive_generator.make_sentence())"
      ],
      "execution_count": 22,
      "outputs": [
        {
          "output_type": "stream",
          "text": [
            "An Agent will be with you shortly...^CB @SouthwestAir I love imagine dragons o flipping much, pls #DestinationDragons @SouthwestAir I would love tix to your show!\n",
            "Pilots did a great job.\n",
            "@JetBlue Thanks for the response.\n",
            "Up &amp; away ✈️🌞 @USAirways Thank you @USAirways Got it, thanks!\n",
            "None\n",
            "None\n",
            "@JetBlue - looking forward to watching the Oscars on my flight have directional dislexia.\n",
            "None\n",
            "@united thanks for the quick customer service today.\n",
            "None\n"
          ],
          "name": "stdout"
        }
      ]
    },
    {
      "cell_type": "code",
      "metadata": {
        "colab": {
          "base_uri": "https://localhost:8080/"
        },
        "id": "9NdgD8r9AKPM",
        "outputId": "50297b0f-4745-4322-be84-b71318da6746"
      },
      "source": [
        "# Negative\r\n",
        "# Ten randomly generated sentences\r\n",
        "for i in range(10):\r\n",
        "    print(negative_generator.make_sentence())"
      ],
      "execution_count": 24,
      "outputs": [
        {
          "output_type": "stream",
          "text": [
            "Said standby maybe 2days @united your website won't let me select online and there's a ridiculous wait time on 4348 to get a flight from a couple weeks now.\n",
            "# totalfail #letdown @SouthwestAir you are a monopoly in @flySFO doesn't mean you treat your passengers like shit.\n",
            "None\n",
            "None\n",
            "@SouthwestAir had a very rude gate agent at arrival MKE 2/23.\n",
            "My claim number is expired because you WON'T find my bag @united I had to pay to sleep in Philly.\n",
            "@AmericanAir here is the ticket they gave me travel credit but will not disclose what they are...\n",
            "@united I'm try to upgrade my seats to first class our luggage was open and now missing valuable items that can't be rebooked online?Rep I called quoted me $1k higher than the website.\n",
            "I'll most likely never book with you guys and your website won't allow me to wait on hold at your main number.\n",
            "@americanair 30 minutes since landing - flight 1531 from Miami and no one answers at 800 number.\n"
          ],
          "name": "stdout"
        }
      ]
    },
    {
      "cell_type": "markdown",
      "metadata": {
        "id": "wHTDLRnOBLzi"
      },
      "source": [
        "As we can see, the text generated reflects the overall sentiment of the tweets that it was generated from. This should not be surprising. What Markov Chains is, essentially, is looking at the previous few words to predict the word that can come next. Now, what if we looked at all the tweets? Let's find out. "
      ]
    },
    {
      "cell_type": "code",
      "metadata": {
        "id": "cpAFrJg4BcCV"
      },
      "source": [
        "nlp = spacy.load('en_core_web_sm', disable=['parser', 'ner'])\r\n",
        "nlp.add_pipe(nlp.create_pipe('sentencizer'))\r\n",
        "nlp.max_length = 20000000\r\n",
        "doc = nlp(\" \".join(twitter.text))"
      ],
      "execution_count": 26,
      "outputs": []
    },
    {
      "cell_type": "code",
      "metadata": {
        "colab": {
          "base_uri": "https://localhost:8080/",
          "height": 69
        },
        "id": "s2wHF2ThBrx_",
        "outputId": "9d010a47-422d-4178-c9b1-0ef0d78db2bf"
      },
      "source": [
        "# Group into sentences\r\n",
        "# Use the sentences that have more than one character\r\n",
        "sents = \" \".join([sent.text for sent in doc.sents if len(sent.text) > 1])\r\n",
        "sents[0:500]"
      ],
      "execution_count": 30,
      "outputs": [
        {
          "output_type": "execute_result",
          "data": {
            "application/vnd.google.colaboratory.intrinsic+json": {
              "type": "string"
            },
            "text/plain": [
              "'@VirginAmerica What @dhepburn said. @VirginAmerica plus you\\'ve added commercials to the experience... tacky. @VirginAmerica I didn\\'t today... Must mean I need to take another trip! @VirginAmerica it\\'s really aggressive to blast obnoxious \"entertainment\" in your guests\\' faces &amp; they have little recourse @VirginAmerica and it\\'s a really big bad thing about it @VirginAmerica seriously would pay $30 a flight for seats that didn\\'t have this playing. \\nit\\'s really the only bad thing about flying VA'"
            ]
          },
          "metadata": {
            "tags": []
          },
          "execution_count": 30
        }
      ]
    },
    {
      "cell_type": "code",
      "metadata": {
        "id": "pmUs56_IBiSv"
      },
      "source": [
        "generator = markovify.Text(sents, state_size = 3)"
      ],
      "execution_count": 28,
      "outputs": []
    },
    {
      "cell_type": "code",
      "metadata": {
        "colab": {
          "base_uri": "https://localhost:8080/"
        },
        "id": "_6a03YqfB5zB",
        "outputId": "cdd5e3c4-d1c3-4d4c-9c86-cc6b69118ef1"
      },
      "source": [
        "# Ten randomly generated sentences\r\n",
        "for i in range(10):\r\n",
        "    print(generator.make_sentence())"
      ],
      "execution_count": 29,
      "outputs": [
        {
          "output_type": "stream",
          "text": [
            "😄 @SouthwestAir Sort of, but I'm arriving a day and a half because of this!\n",
            "I'm on hold for over a month to book a rwrd and was told no because i used points!\n",
            "# UA6136 http://t.co/4JdvK8tCqx @united Do you have any sort of email confirmation that it’s been received.\n",
            "@SouthwestAir Thank you for allowing me to see an agent to rebook my flight myself and am about to board their 5th plane of the day.\n",
            "Evry 1st flight I take w/ you is delayed &amp; evry 2nd is on time when its 5 minutes past departure time and the attendants at MKE made my day!\n",
            "Crew forgetting to load bags. expecting comp...\n",
            "@AmericanAir Phone just disconnects if you stay on the plane, just as a carry on.\n",
            "None\n",
            "@united my flight out of BNA today?\n",
            "No bad weather in RDU.\n"
          ],
          "name": "stdout"
        }
      ]
    },
    {
      "cell_type": "markdown",
      "metadata": {
        "id": "WkZizBHzCFqM"
      },
      "source": [
        "Well! As expected, the tweets aren't so negative as the purely negative tweets. ut since negative tweets far outnumber all other tweets, these tweets are still pretty negative. "
      ]
    },
    {
      "cell_type": "code",
      "metadata": {
        "id": "PMe98F0bB-jC"
      },
      "source": [
        ""
      ],
      "execution_count": null,
      "outputs": []
    }
  ]
}